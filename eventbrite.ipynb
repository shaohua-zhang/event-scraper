{
 "cells": [
  {
   "cell_type": "markdown",
   "metadata": {},
   "source": [
    "## Loading and modifying event scraping script"
   ]
  },
  {
   "cell_type": "markdown",
   "metadata": {},
   "source": [
    "####my eventbrite keys:\n",
    "- user_key:  \n",
    "- app_key:  \n"
   ]
  },
  {
   "cell_type": "markdown",
   "metadata": {},
   "source": [
    "### Get eventbrite categories"
   ]
  },
  {
   "cell_type": "code",
   "execution_count": 2,
   "metadata": {
    "collapsed": false
   },
   "outputs": [
    {
     "data": {
      "text/plain": [
       "{u'categories': [{u'id': u'103',\n",
       "   u'name': u'Music',\n",
       "   u'name_localized': u'Music',\n",
       "   u'resource_uri': u'https://www.eventbriteapi.com/v3/categories/103/',\n",
       "   u'short_name': u'Music',\n",
       "   u'short_name_localized': u'Music'},\n",
       "  {u'id': u'101',\n",
       "   u'name': u'Business & Professional',\n",
       "   u'name_localized': u'Business & Professional',\n",
       "   u'resource_uri': u'https://www.eventbriteapi.com/v3/categories/101/',\n",
       "   u'short_name': u'Business',\n",
       "   u'short_name_localized': u'Business'},\n",
       "  {u'id': u'110',\n",
       "   u'name': u'Food & Drink',\n",
       "   u'name_localized': u'Food & Drink',\n",
       "   u'resource_uri': u'https://www.eventbriteapi.com/v3/categories/110/',\n",
       "   u'short_name': u'Food & Drink',\n",
       "   u'short_name_localized': u'Food & Drink'},\n",
       "  {u'id': u'113',\n",
       "   u'name': u'Community & Culture',\n",
       "   u'name_localized': u'Community & Culture',\n",
       "   u'resource_uri': u'https://www.eventbriteapi.com/v3/categories/113/',\n",
       "   u'short_name': u'Community',\n",
       "   u'short_name_localized': u'Community'},\n",
       "  {u'id': u'105',\n",
       "   u'name': u'Performing & Visual Arts',\n",
       "   u'name_localized': u'Performing & Visual Arts',\n",
       "   u'resource_uri': u'https://www.eventbriteapi.com/v3/categories/105/',\n",
       "   u'short_name': u'Arts',\n",
       "   u'short_name_localized': u'Arts'},\n",
       "  {u'id': u'104',\n",
       "   u'name': u'Film, Media & Entertainment',\n",
       "   u'name_localized': u'Film, Media & Entertainment',\n",
       "   u'resource_uri': u'https://www.eventbriteapi.com/v3/categories/104/',\n",
       "   u'short_name': u'Film & Media',\n",
       "   u'short_name_localized': u'Film & Media'},\n",
       "  {u'id': u'108',\n",
       "   u'name': u'Sports & Fitness',\n",
       "   u'name_localized': u'Sports & Fitness',\n",
       "   u'resource_uri': u'https://www.eventbriteapi.com/v3/categories/108/',\n",
       "   u'short_name': u'Sports & Fitness',\n",
       "   u'short_name_localized': u'Sports & Fitness'},\n",
       "  {u'id': u'107',\n",
       "   u'name': u'Health & Wellness',\n",
       "   u'name_localized': u'Health & Wellness',\n",
       "   u'resource_uri': u'https://www.eventbriteapi.com/v3/categories/107/',\n",
       "   u'short_name': u'Health',\n",
       "   u'short_name_localized': u'Health'},\n",
       "  {u'id': u'102',\n",
       "   u'name': u'Science & Technology',\n",
       "   u'name_localized': u'Science & Technology',\n",
       "   u'resource_uri': u'https://www.eventbriteapi.com/v3/categories/102/',\n",
       "   u'short_name': u'Science & Tech',\n",
       "   u'short_name_localized': u'Science & Tech'},\n",
       "  {u'id': u'109',\n",
       "   u'name': u'Travel & Outdoor',\n",
       "   u'name_localized': u'Travel & Outdoor',\n",
       "   u'resource_uri': u'https://www.eventbriteapi.com/v3/categories/109/',\n",
       "   u'short_name': u'Travel & Outdoor',\n",
       "   u'short_name_localized': u'Travel & Outdoor'},\n",
       "  {u'id': u'111',\n",
       "   u'name': u'Charity & Causes',\n",
       "   u'name_localized': u'Charity & Causes',\n",
       "   u'resource_uri': u'https://www.eventbriteapi.com/v3/categories/111/',\n",
       "   u'short_name': u'Charity & Causes',\n",
       "   u'short_name_localized': u'Charity & Causes'},\n",
       "  {u'id': u'114',\n",
       "   u'name': u'Religion & Spirituality',\n",
       "   u'name_localized': u'Religion & Spirituality',\n",
       "   u'resource_uri': u'https://www.eventbriteapi.com/v3/categories/114/',\n",
       "   u'short_name': u'Spirituality',\n",
       "   u'short_name_localized': u'Spirituality'},\n",
       "  {u'id': u'115',\n",
       "   u'name': u'Family & Education',\n",
       "   u'name_localized': u'Family & Education',\n",
       "   u'resource_uri': u'https://www.eventbriteapi.com/v3/categories/115/',\n",
       "   u'short_name': u'Family & Education',\n",
       "   u'short_name_localized': u'Family & Education'},\n",
       "  {u'id': u'116',\n",
       "   u'name': u'Seasonal & Holiday',\n",
       "   u'name_localized': u'Seasonal & Holiday',\n",
       "   u'resource_uri': u'https://www.eventbriteapi.com/v3/categories/116/',\n",
       "   u'short_name': u'Holiday',\n",
       "   u'short_name_localized': u'Holiday'},\n",
       "  {u'id': u'112',\n",
       "   u'name': u'Government & Politics',\n",
       "   u'name_localized': u'Government & Politics',\n",
       "   u'resource_uri': u'https://www.eventbriteapi.com/v3/categories/112/',\n",
       "   u'short_name': u'Government',\n",
       "   u'short_name_localized': u'Government'},\n",
       "  {u'id': u'106',\n",
       "   u'name': u'Fashion & Beauty',\n",
       "   u'name_localized': u'Fashion & Beauty',\n",
       "   u'resource_uri': u'https://www.eventbriteapi.com/v3/categories/106/',\n",
       "   u'short_name': u'Fashion',\n",
       "   u'short_name_localized': u'Fashion'},\n",
       "  {u'id': u'117',\n",
       "   u'name': u'Home & Lifestyle',\n",
       "   u'name_localized': u'Home & Lifestyle',\n",
       "   u'resource_uri': u'https://www.eventbriteapi.com/v3/categories/117/',\n",
       "   u'short_name': u'Home & Lifestyle',\n",
       "   u'short_name_localized': u'Home & Lifestyle'},\n",
       "  {u'id': u'118',\n",
       "   u'name': u'Auto, Boat & Air',\n",
       "   u'name_localized': u'Auto, Boat & Air',\n",
       "   u'resource_uri': u'https://www.eventbriteapi.com/v3/categories/118/',\n",
       "   u'short_name': u'Auto, Boat & Air',\n",
       "   u'short_name_localized': u'Auto, Boat & Air'},\n",
       "  {u'id': u'119',\n",
       "   u'name': u'Hobbies & Special Interest',\n",
       "   u'name_localized': u'Hobbies & Special Interest',\n",
       "   u'resource_uri': u'https://www.eventbriteapi.com/v3/categories/119/',\n",
       "   u'short_name': u'Hobbies',\n",
       "   u'short_name_localized': u'Hobbies'},\n",
       "  {u'id': u'199',\n",
       "   u'name': u'Other',\n",
       "   u'name_localized': u'Other',\n",
       "   u'resource_uri': u'https://www.eventbriteapi.com/v3/categories/199/',\n",
       "   u'short_name': u'Other',\n",
       "   u'short_name_localized': u'Other'}],\n",
       " u'locale': u'en_US',\n",
       " u'pagination': {u'object_count': 20,\n",
       "  u'page_count': 1,\n",
       "  u'page_number': 1,\n",
       "  u'page_size': 50}}"
      ]
     },
     "execution_count": 2,
     "metadata": {},
     "output_type": "execute_result"
    }
   ],
   "source": [
    "import httplib2\n",
    "import simplejson as json\n",
    "\n",
    "url ='https://www.eventbriteapi.com/v3/categories/?token=6W6MK2IRTGDVSXQM3MNY&venue.country=CA'\n",
    "\n",
    "h = httplib2.Http(\".cache\")\n",
    "(resp_headers, content) = h.request(url, \"GET\")\n",
    "data = json.loads(content)\n",
    "data"
   ]
  },
  {
   "cell_type": "markdown",
   "metadata": {},
   "source": [
    "### Retrieve pagination information"
   ]
  },
  {
   "cell_type": "code",
   "execution_count": 3,
   "metadata": {
    "collapsed": false
   },
   "outputs": [
    {
     "name": "stdout",
     "output_type": "stream",
     "text": [
      "10276\n",
      "50\n"
     ]
    }
   ],
   "source": [
    "import httplib2\n",
    "import simplejson as json\n",
    "\n",
    "url ='https://www.eventbriteapi.com/v3/events/search/?token=6W6MK2IRTGDVSXQM3MNY&venue.country=CA'\n",
    "\n",
    "h = httplib2.Http(\".cache\")\n",
    "(resp_headers, content) = h.request(url, \"GET\")\n",
    "data = json.loads(content)\n",
    "total_items = data['pagination']['object_count']\n",
    "page_size = data['pagination']['page_size']\n",
    "events = data['events']\n",
    "\n",
    "print total_items\n",
    "print page_size\n",
    "#print events[1]"
   ]
  },
  {
   "cell_type": "markdown",
   "metadata": {},
   "source": [
    "### Retrieve Events - Old API (seems to have stopped working)"
   ]
  },
  {
   "cell_type": "code",
   "execution_count": 45,
   "metadata": {
    "collapsed": false
   },
   "outputs": [
    {
     "name": "stdout",
     "output_type": "stream",
     "text": [
      "Overwriting ../events/Eventbrite_API_Text.py\n"
     ]
    }
   ],
   "source": [
    "%%writefile ../events/Eventbrite_API_Text.py\n",
    "\n",
    "import httplib2\n",
    "import simplejson as json\n",
    "import math\n",
    "import sys\n",
    "import datetime\n",
    "\n",
    "dt = datetime.datetime.now()\n",
    "log_dt = str(dt.year)+'_'+str(dt.month)+'_'+str(dt.day)\n",
    "\n",
    "def extract_country(url,country,log_date):\n",
    "    h = httplib2.Http(\".cache\")\n",
    "    (resp_headers, content) = h.request(url, \"GET\")\n",
    "\n",
    "    data = json.loads(content)\n",
    "    print data.keys()\n",
    "    total_items = data['pagination']['object_count']\n",
    "    page_size = data['pagination']['page_size']\n",
    "\n",
    "    page_number = int(math.ceil(total_items / page_size))\n",
    "\n",
    "    filename = '/Users/Data/eventbrite/eventbrite_' + log_dt + '_' + country + '.txt' \n",
    "    f = open(filename, 'w+')\n",
    "    current_cnt = 0\n",
    "    for n in range(1, page_number+1):\n",
    "        page_url = url+\"&page=%d\" % n\n",
    "        resp_headers, content = h.request(page_url, \"GET\")\n",
    "        page_data = json.loads(content)\n",
    "        page_events = page_data['events'][1:]\n",
    "        for e in page_events:\n",
    "            f.write(dt.isoformat() + '\\t' + json.dumps(e) + '\\n')\n",
    "            current_cnt += 1\n",
    "            if current_cnt % 1000 == 0:\n",
    "                print \"%d lines have been written...\" % (current_cnt)\n",
    "\n",
    "    f.close()\n",
    "\n",
    "# list of countries\n",
    "countries = ['CA']\n",
    "for country in countries:\n",
    "    url = 'https://www.eventbriteapi.com/v3/events/search/?token=6W6MK2IRTGDVSXQM3MNY&venue.country=' + country \n",
    "    print \"extracting %s\" % country\n",
    "    extract_country(url,country,log_dt)"
   ]
  },
  {
   "cell_type": "code",
   "execution_count": 46,
   "metadata": {
    "collapsed": false
   },
   "outputs": [
    {
     "name": "stdout",
     "output_type": "stream",
     "text": [
      "extracting CA\n",
      "['pagination', 'events']\n",
      "1000 lines have been written...\n",
      "2000 lines have been written...\n",
      "3000 lines have been written...\n",
      "4000 lines have been written...\n",
      "5000 lines have been written...\n",
      "6000 lines have been written...\n",
      "7000 lines have been written...\n",
      "8000 lines have been written...\n",
      "9000 lines have been written...\n",
      "10000 lines have been written...\n",
      "11000 lines have been written...\n",
      "12000 lines have been written...\n",
      "13000 lines have been written...\n",
      "14000 lines have been written...\n",
      "15000 lines have been written...\n",
      "16000 lines have been written...\n",
      "17000 lines have been written...\n",
      "18000 lines have been written...\n"
     ]
    }
   ],
   "source": [
    "%run ../events/Eventbrite_API_Text.py"
   ]
  },
  {
   "cell_type": "code",
   "execution_count": 20,
   "metadata": {
    "collapsed": false
   },
   "outputs": [],
   "source": [
    "#%cat /Users/Data/eventbrite/data1.txt | head -1"
   ]
  },
  {
   "cell_type": "code",
   "execution_count": 46,
   "metadata": {
    "collapsed": false
   },
   "outputs": [
    {
     "name": "stdout",
     "output_type": "stream",
     "text": [
      "Montréal\n",
      "Canada\n",
      "QC\n",
      "2015-04-01 15:00:00\n",
      "\n",
      "http://accquebec.eventbrite.ca\n",
      "16423074859\n",
      "\n",
      "Cocktail 2015 GOWLINGS et ACC Quebec\n"
     ]
    }
   ],
   "source": [
    "import sys\n",
    "import simplejson\n",
    "\n",
    "datapath = '/Users/Data'\n",
    "filepath = datapath + '/eventbrite/data1.txt'\n",
    "f = open(filepath, 'r')\n",
    "i = 0\n",
    "for line in f:\n",
    "    dt, data = line.split('\\t')\n",
    "    jo = simplejson.loads(data)\n",
    "    i += 1\n",
    "    if i <= 1:\n",
    "        print jo['event']['venue']['city']\n",
    "        print  jo['event']['venue']['country']\n",
    "        print jo['event']['venue']['region']\n",
    "        print jo['event']['tickets'][0]['ticket']['start_date']\n",
    "        print jo['event']['tags']\n",
    "        print jo['event']['organizer']['url']\n",
    "        print jo['event']['id']\n",
    "        print jo['event']['category']\n",
    "        print jo['event']['title']\n",
    "    \n"
   ]
  },
  {
   "cell_type": "markdown",
   "metadata": {},
   "source": [
    "-----"
   ]
  }
 ],
 "metadata": {
  "kernelspec": {
   "display_name": "Python 2",
   "language": "python",
   "name": "python2"
  },
  "language_info": {
   "codemirror_mode": {
    "name": "ipython",
    "version": 2
   },
   "file_extension": ".py",
   "mimetype": "text/x-python",
   "name": "python",
   "nbconvert_exporter": "python",
   "pygments_lexer": "ipython2",
   "version": "2.7.9"
  }
 },
 "nbformat": 4,
 "nbformat_minor": 0
}
